{
 "cells": [
  {
   "cell_type": "markdown",
   "id": "849c6275",
   "metadata": {},
   "source": [
    "# Importing Modules"
   ]
  },
  {
   "cell_type": "code",
   "execution_count": 1,
   "id": "50b8843b",
   "metadata": {},
   "outputs": [],
   "source": [
    "import os\n",
    "import json\n",
    "import time\n",
    "import pickle\n",
    "import tweepy as tw\n",
    "import pandas as pd\n",
    "import reverse_geocoder as rg"
   ]
  },
  {
   "cell_type": "markdown",
   "id": "526b0263",
   "metadata": {},
   "source": [
    "# Credentials"
   ]
  },
  {
   "cell_type": "code",
   "execution_count": 2,
   "id": "2987471e",
   "metadata": {},
   "outputs": [],
   "source": [
    "with open(\"/src/twitter_credentials.json\", 'r') as f:\n",
    "    credentials = json.load(f)"
   ]
  },
  {
   "cell_type": "code",
   "execution_count": 3,
   "id": "039723df",
   "metadata": {},
   "outputs": [],
   "source": [
    "auth = tw.OAuthHandler(credentials['consumer_key'], credentials['consumer_secret'])\n",
    "api = tw.API(auth)"
   ]
  },
  {
   "cell_type": "markdown",
   "id": "e2ad2a36",
   "metadata": {},
   "source": [
    "# Unique Geo Ids"
   ]
  },
  {
   "cell_type": "code",
   "execution_count": 2,
   "id": "ce73b4d0",
   "metadata": {},
   "outputs": [],
   "source": [
    "path = \"/data/daily_world_en_csv\"\n",
    "db_save_path = \"/data/unique_geo_ids\"\n",
    "list_of_csvs = os.listdir(path)\n",
    "all_df = pd.concat([pd.read_csv(f\"{path}/{i}\") for i in list_of_csvs])\n",
    "unique_ids = all_df['geo_place_id'].unique()"
   ]
  },
  {
   "cell_type": "code",
   "execution_count": 103,
   "id": "8733680d",
   "metadata": {},
   "outputs": [
    {
     "data": {
      "text/plain": [
       "(16725,)"
      ]
     },
     "execution_count": 103,
     "metadata": {},
     "output_type": "execute_result"
    }
   ],
   "source": [
    "unique_ids.shape"
   ]
  },
  {
   "cell_type": "markdown",
   "id": "f2d05fd1",
   "metadata": {},
   "source": [
    "# Fetching Data"
   ]
  },
  {
   "cell_type": "code",
   "execution_count": 104,
   "id": "290d4209",
   "metadata": {},
   "outputs": [],
   "source": [
    "time_delay = [4, 16, 36, 64, 100, 144, 196, 256]\n",
    "\n",
    "geo_obj = api.geo_id(unique_ids[0]) # example / an example of removed place id: '07d9d27e7d480000'"
   ]
  },
  {
   "cell_type": "code",
   "execution_count": 105,
   "id": "3aa10b85",
   "metadata": {},
   "outputs": [
    {
     "data": {
      "text/plain": [
       "Place(_api=<tweepy.api.API object at 0x000001FAED127700>, id='3b98b02fba3f9753', name='North Carolina', full_name='North Carolina, USA', country='United States', country_code='US', url='https://api.twitter.com/1.1/geo/id/3b98b02fba3f9753.json', place_type='admin', attributes={'162772:state_id': '37', '567718:targetable': '1', '189390:id': 'north-carolina', '162813:id': 'NC', 'geotagCount': '4002'}, bounding_box=BoundingBox(_api=<tweepy.api.API object at 0x000001FAED127700>, type='Polygon', coordinates=[[[-84.3219475, 33.752879], [-84.3219475, 36.588118], [-75.40012, 36.588118], [-75.40012, 33.752879], [-84.3219475, 33.752879]]]), centroid=[-78.57673379465703, 35.1704985], contained_within=[Place(_api=<tweepy.api.API object at 0x000001FAED127700>, id='96683cc9126741d1', name='United States', full_name='United States', country='United States', country_code='US', url='https://api.twitter.com/1.1/geo/id/96683cc9126741d1.json', place_type='country', attributes={}, bounding_box=BoundingBox(_api=<tweepy.api.API object at 0x000001FAED127700>, type='Polygon', coordinates=[[[-179.231086, 13.182335], [-179.231086, 71.434357], [179.859685, 71.434357], [179.859685, 13.182335], [-179.231086, 13.182335]]]), centroid=[-98.99308143101959, 36.890333500000004])], polylines=[], geometry=None)"
      ]
     },
     "execution_count": 105,
     "metadata": {},
     "output_type": "execute_result"
    }
   ],
   "source": [
    "geo_obj"
   ]
  },
  {
   "cell_type": "code",
   "execution_count": 148,
   "id": "10eedb36",
   "metadata": {},
   "outputs": [],
   "source": [
    "columns = ['id', 'name', 'state', 'place_type', 'geo_tag_count', 'longitude', 'latitude']"
   ]
  },
  {
   "cell_type": "code",
   "execution_count": 107,
   "id": "47b42160",
   "metadata": {},
   "outputs": [
    {
     "name": "stdout",
     "output_type": "stream",
     "text": [
      "North Carolina\n",
      "USA\n",
      "admin\n",
      "4002\n",
      "[-78.57673379465703, 35.1704985]\n"
     ]
    }
   ],
   "source": [
    "print(geo_obj.name)\n",
    "print(geo_obj.full_name.split(\",\")[-1].strip())\n",
    "print(geo_obj.place_type)\n",
    "print(geo_obj.attributes['geotagCount'])\n",
    "print(geo_obj.centroid)"
   ]
  },
  {
   "cell_type": "code",
   "execution_count": null,
   "id": "33a25c95",
   "metadata": {
    "scrolled": true
   },
   "outputs": [],
   "source": [
    "sleep_idx = 0\n",
    "length_of_td = len(time_delay)\n",
    "for geoID in unique_ids:\n",
    "    while True:\n",
    "        try:\n",
    "            place = api.geo_id(geoID)\n",
    "            sleep_idx = 0\n",
    "            break\n",
    "        except:\n",
    "            print(f\"sleep {time_delay[sleep_idx]} seconds\")\n",
    "            time.sleep(time_delay[sleep_idx])\n",
    "            sleep_idx += 1\n",
    "            sleep_idx %= length_of_td\n",
    "    with open(f\"{db_save_path}/{geoID}.db\", 'wb') as f:\n",
    "        pickle.dump(place, f)"
   ]
  },
  {
   "cell_type": "markdown",
   "id": "4207a840",
   "metadata": {},
   "source": [
    "### Looking Each place_type to determine how to get state"
   ]
  },
  {
   "cell_type": "code",
   "execution_count": 5,
   "id": "e093da96",
   "metadata": {},
   "outputs": [],
   "source": [
    "saved_dbs = os.listdir(db_save_path)\n",
    "saved_dbs.sort()"
   ]
  },
  {
   "cell_type": "code",
   "execution_count": 37,
   "id": "e8fca3d1",
   "metadata": {},
   "outputs": [],
   "source": [
    "place_types_and_place_objs = {}\n",
    "\n",
    "for i in saved_dbs:\n",
    "    with open(f\"{db_save_path}/{i}\", 'rb') as f:\n",
    "        place_obj = pickle.load(f)\n",
    "    place_type_aobj = place_obj.place_type\n",
    "    if not place_types_and_place_objs.get(place_type_aobj, False):\n",
    "        place_types_and_place_objs[place_type_aobj] = place_obj"
   ]
  },
  {
   "cell_type": "code",
   "execution_count": 39,
   "id": "fee3435d",
   "metadata": {},
   "outputs": [
    {
     "name": "stdout",
     "output_type": "stream",
     "text": [
      "Place(id='0000321b41466bc8', name='North Attleboro', full_name='North Attleboro, MA', country='United States', country_code='US', url='https://api.twitter.com/1.1/geo/id/0000321b41466bc8.json', place_type='city', attributes={'geotagCount': '41'}, bounding_box=BoundingBox(type='Polygon', coordinates=[[[-71.381728, 41.914734], [-71.381728, 42.0149913], [-71.268541, 42.0149913], [-71.268541, 41.914734], [-71.381728, 41.914734]]]), centroid=[-71.34153953038711, 41.96486265], contained_within=[Place(id='849efb7c9922523c', name='PROVIDENCE-NEW BEDFORD', full_name='PROVIDENCE-NEW BEDFORD', country='', country_code='', url='https://api.twitter.com/1.1/geo/id/849efb7c9922523c.json', place_type='admin', attributes={}, bounding_box=BoundingBox(type='Polygon', coordinates=[[[-71.895115, 41.146493], [-71.895115, 42.095723], [-70.815842, 42.095723], [-70.815842, 41.146493], [-71.895115, 41.146493]]]), centroid=[-71.60288232526187, 41.699487000000005])], polylines=[], geometry=None)\n",
      "\n",
      "Place(id='0180a237b20ddc45', name='Midtown', full_name='Midtown, Manhattan', country='United States', country_code='US', url='https://api.twitter.com/1.1/geo/id/0180a237b20ddc45.json', place_type='neighborhood', attributes={'geotagCount': '22'}, bounding_box=BoundingBox(type='Polygon', coordinates=[[[-73.992975, 40.748442], [-73.992975, 40.767855], [-73.968186, 40.767855], [-73.968186, 40.748442], [-73.992975, 40.748442]]]), centroid=[-73.98015050846175, 40.7581485], contained_within=[Place(id='01a9a39529b27f36', name='Manhattan', full_name='Manhattan, NY', country='United States', country_code='US', url='https://api.twitter.com/1.1/geo/id/01a9a39529b27f36.json', place_type='city', attributes={}, bounding_box=BoundingBox(type='Polygon', coordinates=[[[-74.026675, 40.683935], [-74.026675, 40.877483], [-73.910408, 40.877483], [-73.910408, 40.683935], [-74.026675, 40.683935]]]), centroid=[-73.95116849700453, 40.788621])], polylines=[], geometry=None)\n",
      "\n",
      "Place(id='07179f4fe0500a32', name='Alaska', full_name='Alaska, USA', country='United States', country_code='US', url='https://api.twitter.com/1.1/geo/id/07179f4fe0500a32.json', place_type='admin', attributes={'162772:state_id': '02', '567718:targetable': '1', '189390:id': 'alaska', '162813:id': 'AK', 'geotagCount': '164'}, bounding_box=BoundingBox(type='Polygon', coordinates=[[[-179.231086, 51.175093], [-179.231086, 71.434357], [179.859685, 71.434357], [179.859685, 51.175093], [-179.231086, 51.175093]]]), centroid=[-153.01448529341303, 62.8450155], contained_within=[Place(id='96683cc9126741d1', name='United States', full_name='United States', country='United States', country_code='US', url='https://api.twitter.com/1.1/geo/id/96683cc9126741d1.json', place_type='country', attributes={}, bounding_box=BoundingBox(type='Polygon', coordinates=[[[-179.231086, 13.182335], [-179.231086, 71.434357], [179.859685, 71.434357], [179.859685, 13.182335], [-179.231086, 13.182335]]]), centroid=[-98.99308143101959, 36.890333500000004])], polylines=[], geometry=None)\n",
      "\n",
      "Place(id='07d9c924c7080002', name='Peter Luger Steak House', full_name='Peter Luger Steak House', country='United States', country_code='US', url='https://api.twitter.com/1.1/geo/id/07d9c924c7080002.json', place_type='poi', attributes={}, bounding_box=BoundingBox(type='Polygon', coordinates=[[[-73.96229110893742, 40.70995790682886], [-73.96229110893742, 40.70995790682886], [-73.96229110893742, 40.70995790682886], [-73.96229110893742, 40.70995790682886], [-73.96229110893742, 40.70995790682886]]]), centroid=[-73.96229110893742, 40.70995790682886], contained_within=[Place(id='639172e62d801b39', name='Brooklyn', full_name='Brooklyn', country='United States', country_code='US', url='https://api.twitter.com/1.1/geo/id/639172e62d801b39.json', place_type='admin', attributes={}, bounding_box=BoundingBox(type='Polygon', coordinates=[[[-73.964471, 40.700826], [-73.964471, 40.724949], [-73.922887, 40.724949], [-73.922887, 40.700826], [-73.964471, 40.700826]]]), centroid=[-73.9495772997319, 40.7128875])], polylines=[], geometry={'type': 'Point', 'coordinates': [-73.96229110893742, 40.70995790682886]}, vendor_info={'foursquare': {}})\n",
      "\n",
      "Place(id='96683cc9126741d1', name='United States', full_name='United States', country='United States', country_code='US', url='https://api.twitter.com/1.1/geo/id/96683cc9126741d1.json', place_type='country', attributes={'567718:targetable': '1', '162768:id': 'USA', 'geotagCount': '82', '162763:id': 'US'}, bounding_box=BoundingBox(type='Polygon', coordinates=[[[-179.231086, 13.182335], [-179.231086, 71.434357], [179.859685, 71.434357], [179.859685, 13.182335], [-179.231086, 13.182335]]]), centroid=[-98.99308143101959, 36.890333500000004], contained_within=[], polylines=[], geometry=None)\n",
      "\n"
     ]
    }
   ],
   "source": [
    "for i in place_types_and_place_objs:\n",
    "    print(place_types_and_place_objs[i])\n",
    "    print()"
   ]
  },
  {
   "cell_type": "code",
   "execution_count": 143,
   "id": "4c6fc836",
   "metadata": {
    "scrolled": true
   },
   "outputs": [
    {
     "name": "stdout",
     "output_type": "stream",
     "text": [
      "Place(id='27485069891a7938', name='New York', full_name='New York, NY', country='United States', country_code='US', url='https://api.twitter.com/1.1/geo/id/27485069891a7938.json', place_type='admin', attributes={'189390:id': 'new-york-ny', '162772:pop100': '8008278', 'geotagCount': '924', '162772:place_id': '3651000'}, bounding_box=BoundingBox(type='Polygon', coordinates=[[[-74.255641, 40.495865], [-74.255641, 40.91533], [-73.699793, 40.91533], [-73.699793, 40.495865], [-74.255641, 40.495865]]]), centroid=[-73.86770300366848, 40.685776000000004], contained_within=[Place(id='94965b2c45386f87', name='New York', full_name='New York, USA', country='United States', country_code='US', url='https://api.twitter.com/1.1/geo/id/94965b2c45386f87.json', place_type='admin', attributes={}, bounding_box=BoundingBox(type='Polygon', coordinates=[[[-79.76259, 40.477383], [-79.76259, 45.015851], [-71.777492, 45.015851], [-71.777492, 40.477383], [-79.76259, 40.477383]]]), centroid=[-76.2146236146748, 42.746617])], polylines=[], geometry=None)\n",
      "\n",
      "Place(id='5cbb8116c1f9ceef', name='Virgin Islands', full_name='Virgin Islands, USA', country='United States', country_code='US', url='https://api.twitter.com/1.1/geo/id/5cbb8116c1f9ceef.json', place_type='admin', attributes={'geotagCount': '7'}, bounding_box=BoundingBox(type='Polygon', coordinates=[[[-65.159095, 17.623468], [-65.159095, 18.464984], [-64.512674, 18.464984], [-64.512674, 17.623468], [-65.159095, 17.623468]]]), centroid=[-64.88944735788485, 18.3222855], contained_within=[Place(id='96683cc9126741d1', name='United States', full_name='United States', country='United States', country_code='US', url='https://api.twitter.com/1.1/geo/id/96683cc9126741d1.json', place_type='country', attributes={}, bounding_box=BoundingBox(type='Polygon', coordinates=[[[-179.231086, 13.182335], [-179.231086, 71.434357], [179.859685, 71.434357], [179.859685, 13.182335], [-179.231086, 13.182335]]]), centroid=[-98.99308143101959, 36.890333500000004])], polylines=[], geometry=None)\n",
      "\n"
     ]
    }
   ],
   "source": [
    "for i in saved_dbs:\n",
    "    with open(f\"{db_save_path}/{i}\", 'rb') as f:\n",
    "        place_obj = pickle.load(f)\n",
    "    if place_obj.place_type == \"admin\" and not place_obj.attributes.get('162813:id', False):\n",
    "        print(place_obj)\n",
    "        print()"
   ]
  },
  {
   "cell_type": "code",
   "execution_count": 83,
   "id": "3590ea6c",
   "metadata": {},
   "outputs": [
    {
     "data": {
      "text/plain": [
       "[{'lat': '40.74482',\n",
       "  'lon': '-73.94875',\n",
       "  'name': 'Long Island City',\n",
       "  'admin1': 'New York',\n",
       "  'admin2': 'Queens County',\n",
       "  'cc': 'US'}]"
      ]
     },
     "execution_count": 83,
     "metadata": {},
     "output_type": "execute_result"
    }
   ],
   "source": [
    "centroid = place_types_and_place_objs['poi'].centroid # replace with acronym\n",
    "rg.search(centroid[::-1]['admin1'])"
   ]
  },
  {
   "cell_type": "code",
   "execution_count": 100,
   "id": "859e839e",
   "metadata": {},
   "outputs": [
    {
     "data": {
      "text/plain": [
       "[{'lat': '40.74482',\n",
       "  'lon': '-73.94875',\n",
       "  'name': 'Long Island City',\n",
       "  'admin1': 'New York',\n",
       "  'admin2': 'Queens County',\n",
       "  'cc': 'US'}]"
      ]
     },
     "execution_count": 100,
     "metadata": {},
     "output_type": "execute_result"
    }
   ],
   "source": [
    "centroid = [-73.96229110893742, 40.70995790682886]\n",
    "\n",
    "results = rg.search(centroid[::-1]) # default mode = 2\n",
    "\n",
    "results"
   ]
  },
  {
   "cell_type": "markdown",
   "id": "852a212e",
   "metadata": {},
   "source": [
    "# Getting Places and Handling States"
   ]
  },
  {
   "cell_type": "code",
   "execution_count": 161,
   "id": "b6a3f8dc",
   "metadata": {},
   "outputs": [],
   "source": [
    "us_state_abbrev = {\n",
    "    'Alabama': 'AL',\n",
    "    'Alaska': 'AK',\n",
    "    'American Samoa': 'AS',\n",
    "    'Arizona': 'AZ',\n",
    "    'Arkansas': 'AR',\n",
    "    'California': 'CA',\n",
    "    'Colorado': 'CO',\n",
    "    'Connecticut': 'CT',\n",
    "    'Delaware': 'DE',\n",
    "    'District of Columbia': 'DC',\n",
    "    'Florida': 'FL',\n",
    "    'Georgia': 'GA',\n",
    "    'Guam': 'GU',\n",
    "    'Hawaii': 'HI',\n",
    "    'Idaho': 'ID',\n",
    "    'Illinois': 'IL',\n",
    "    'Indiana': 'IN',\n",
    "    'Iowa': 'IA',\n",
    "    'Kansas': 'KS',\n",
    "    'Kentucky': 'KY',\n",
    "    'Louisiana': 'LA',\n",
    "    'Maine': 'ME',\n",
    "    'Maryland': 'MD',\n",
    "    'Massachusetts': 'MA',\n",
    "    'Michigan': 'MI',\n",
    "    'Minnesota': 'MN',\n",
    "    'Mississippi': 'MS',\n",
    "    'Missouri': 'MO',\n",
    "    'Montana': 'MT',\n",
    "    'Nebraska': 'NE',\n",
    "    'Nevada': 'NV',\n",
    "    'New Hampshire': 'NH',\n",
    "    'New Jersey': 'NJ',\n",
    "    'New Mexico': 'NM',\n",
    "    'New York': 'NY',\n",
    "    'North Carolina': 'NC',\n",
    "    'North Dakota': 'ND',\n",
    "    'Northern Mariana Islands':'MP',\n",
    "    'Ohio': 'OH',\n",
    "    'Oklahoma': 'OK',\n",
    "    'Oregon': 'OR',\n",
    "    'Pennsylvania': 'PA',\n",
    "    'Puerto Rico': 'PR',\n",
    "    'Rhode Island': 'RI',\n",
    "    'South Carolina': 'SC',\n",
    "    'South Dakota': 'SD',\n",
    "    'Tennessee': 'TN',\n",
    "    'Texas': 'TX',\n",
    "    'Utah': 'UT',\n",
    "    'Vermont': 'VT',\n",
    "    'Virgin Islands': 'VI',\n",
    "    'Virginia': 'VA',\n",
    "    'Washington': 'WA',\n",
    "    'Washington, D.C.': 'DC',\n",
    "    'West Virginia': 'WV',\n",
    "    'Wisconsin': 'WI',\n",
    "    'Wyoming': 'WY'\n",
    "}"
   ]
  },
  {
   "cell_type": "code",
   "execution_count": 144,
   "id": "0ca60962",
   "metadata": {},
   "outputs": [],
   "source": [
    "location_array = []"
   ]
  },
  {
   "cell_type": "code",
   "execution_count": 145,
   "id": "6b443b76",
   "metadata": {},
   "outputs": [],
   "source": [
    "def get_state(place_obj):\n",
    "    aplace_type = place_obj.place_type\n",
    "    if place_obj.full_name == \"[Place name removed]\":\n",
    "        return \"\"\n",
    "    if aplace_type == 'city':\n",
    "        return place_obj.full_name.split(\",\")[-1].strip()\n",
    "    elif aplace_type == 'neighborhood':\n",
    "        return place_obj.contained_within[0].full_name[-2:]\n",
    "    elif aplace_type == 'admin':\n",
    "        return us_state_abbrev[place_obj.name]\n",
    "    elif aplace_type == 'poi':\n",
    "        centroid = place_obj.centroid\n",
    "        search_result = rg.search(centroid[::-1])[0]\n",
    "        try:\n",
    "            return us_state_abbrev[search_result['admin1']]\n",
    "        except Exception as e:\n",
    "            print(search_result['cc'])\n",
    "            return search_result['cc']\n",
    "    elif aplace_type == 'country':\n",
    "        return \"\""
   ]
  },
  {
   "cell_type": "code",
   "execution_count": 146,
   "id": "75b36dbf",
   "metadata": {},
   "outputs": [
    {
     "name": "stdout",
     "output_type": "stream",
     "text": [
      "PR\n",
      "PR\n",
      "CA\n",
      "PR\n",
      "GU\n",
      "PR\n",
      "PR\n",
      "PR\n",
      "PR\n",
      "GU\n",
      "PR\n",
      "GU\n",
      "MX\n",
      "CA\n"
     ]
    }
   ],
   "source": [
    "list_of_dbs = os.listdir(db_save_path)\n",
    "\n",
    "for name in list_of_dbs:\n",
    "    with open(f\"{db_save_path}/{name}\", 'rb') as f:\n",
    "        place = pickle.load(f)\n",
    "    \n",
    "    state = get_state(place)\n",
    "    \n",
    "    location_array.append([place.id,\n",
    "                           place.name,\n",
    "                           state,\n",
    "                           place.place_type,\n",
    "                           place.attributes.get('geotagCount', ''),\n",
    "                           *getattr(place, 'centroid', ['', ''])])"
   ]
  },
  {
   "cell_type": "code",
   "execution_count": 210,
   "id": "d15d5e4e",
   "metadata": {},
   "outputs": [],
   "source": [
    "pd.DataFrame(location_array, columns=columns).to_csv(\"data/unique_geo_ids_with_states.csv\", index=False)"
   ]
  }
 ],
 "metadata": {
  "kernelspec": {
   "display_name": "Python 3",
   "language": "python",
   "name": "python3"
  },
  "language_info": {
   "codemirror_mode": {
    "name": "ipython",
    "version": 3
   },
   "file_extension": ".py",
   "mimetype": "text/x-python",
   "name": "python",
   "nbconvert_exporter": "python",
   "pygments_lexer": "ipython3",
   "version": "3.8.7"
  }
 },
 "nbformat": 4,
 "nbformat_minor": 5
}
