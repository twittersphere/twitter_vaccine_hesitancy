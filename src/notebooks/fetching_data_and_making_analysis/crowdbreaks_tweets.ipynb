{
 "cells": [
  {
   "cell_type": "code",
   "execution_count": 3,
   "id": "9bb08a63",
   "metadata": {},
   "outputs": [],
   "source": [
    "import os\n",
    "import json\n",
    "import pickle\n",
    "import numpy as np\n",
    "import pandas as pd\n",
    "import tweepy as tw\n",
    "from tqdm import tqdm"
   ]
  },
  {
   "cell_type": "code",
   "execution_count": 4,
   "id": "2b5dd508",
   "metadata": {},
   "outputs": [],
   "source": [
    "def create_batch(data, batch_size=32):\n",
    "    for idx in range(0, len(data), batch_size):\n",
    "        yield data[idx:idx+batch_size].tolist()"
   ]
  },
  {
   "cell_type": "code",
   "execution_count": null,
   "id": "85eeb593",
   "metadata": {},
   "outputs": [],
   "source": [
    "crowdbreaks_data = pd.read_csv(\"data/crowdbreaks_data/crowdbreaks_data.csv\")\n",
    "\n",
    "with open('src/twitter_credentials.json', 'rb') as f:\n",
    "    credentials = json.load(f)"
   ]
  },
  {
   "cell_type": "code",
   "execution_count": 38,
   "id": "baefd4d8",
   "metadata": {},
   "outputs": [],
   "source": [
    "auth = tw.OAuthHandler(credentials['consumer_key'], credentials['consumer_secret'])\n",
    "api = tw.API(auth)"
   ]
  },
  {
   "cell_type": "code",
   "execution_count": 27,
   "id": "de01c22d",
   "metadata": {},
   "outputs": [
    {
     "name": "stderr",
     "output_type": "stream",
     "text": [
      "280it [04:29,  1.04it/s]\n"
     ]
    }
   ],
   "source": [
    "batches = create_batch(crowdbreaks_data['tweet_id'].values, 100)\n",
    "for counter, batch in tqdm(enumerate(list(batches))):\n",
    "    data_saving_path = f\"data/crowdbreaks_data/batch_{counter}.db\"\n",
    "    if os.path.isfile(data_saving_path):\n",
    "        continue\n",
    "    call_ = api.lookup_statuses(batch)\n",
    "    \n",
    "    with open(data_saving_path, 'wb') as f:\n",
    "        pickle.dump(call_, f)"
   ]
  },
  {
   "cell_type": "markdown",
   "id": "d2ba4d6b",
   "metadata": {},
   "source": [
    "## Db to csv"
   ]
  },
  {
   "cell_type": "code",
   "execution_count": 9,
   "id": "e910a695",
   "metadata": {},
   "outputs": [],
   "source": [
    "db_path = \"data/crowdbreaks_data/raw_db\"\n",
    "db_list = os.listdir(db_path)"
   ]
  },
  {
   "cell_type": "code",
   "execution_count": 58,
   "id": "d9eff570",
   "metadata": {},
   "outputs": [],
   "source": [
    "text = []\n",
    "for file_name in db_list:\n",
    "    with open(f\"{db_path}/{file_name}\", 'rb') as f:\n",
    "        db_obj = pickle.load(f)\n",
    "    for status in db_obj:\n",
    "        text.append([status.id_str, status.text])"
   ]
  },
  {
   "cell_type": "code",
   "execution_count": 60,
   "id": "3840b271",
   "metadata": {},
   "outputs": [],
   "source": [
    "ids_and_labels = pd.read_csv(\"data/crowdbreaks_data/crowdbreaks_tweets_ids_and_labels.csv\", dtype=str)"
   ]
  },
  {
   "cell_type": "code",
   "execution_count": 61,
   "id": "4dec7fae",
   "metadata": {},
   "outputs": [],
   "source": [
    "ids_and_labels_hashmap = {}\n",
    "for i in ids_and_labels.values:\n",
    "    ids_and_labels_hashmap[i[0]] = i[-1]"
   ]
  },
  {
   "cell_type": "code",
   "execution_count": 62,
   "id": "64dff6cd",
   "metadata": {},
   "outputs": [],
   "source": [
    "for idx in range(len(text)):\n",
    "    text[idx].append(ids_and_labels_hashmap[text[idx][0]])"
   ]
  },
  {
   "cell_type": "code",
   "execution_count": 64,
   "id": "8de5dbaf",
   "metadata": {},
   "outputs": [],
   "source": [
    "pd.DataFrame(np.array(text), columns=['id', 'text', 'label']).to_csv(\n",
    "    \"data/crowdbreaks_data/crowdbreaks_tweets.csv\", index=False)"
   ]
  }
 ],
 "metadata": {
  "kernelspec": {
   "display_name": "Python 3.8.13 ('snakemake')",
   "language": "python",
   "name": "python3"
  },
  "language_info": {
   "codemirror_mode": {
    "name": "ipython",
    "version": 3
   },
   "file_extension": ".py",
   "mimetype": "text/x-python",
   "name": "python",
   "nbconvert_exporter": "python",
   "pygments_lexer": "ipython3",
   "version": "3.8.13"
  },
  "vscode": {
   "interpreter": {
    "hash": "4452b2ce40d73913a5ed7bed7c508f8f1febe8afff374b781ee183987a9ff12e"
   }
  }
 },
 "nbformat": 4,
 "nbformat_minor": 5
}
